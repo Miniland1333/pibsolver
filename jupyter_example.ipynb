{
 "cells": [
  {
   "cell_type": "markdown",
   "metadata": {},
   "source": [
    "# PIBSolver example usage\n",
    "\n",
    "This notebook shows how to use the PIBSolver class. Note that this cell is \"Markdown\" instead of \"Code.\" This allows you to enter blocks of formatted text. If you double-click this text, you can see how to edit it. See https://www.markdownguide.org/cheat-sheet/ for a quick intro to formatting text in Markdown. When you're done editing a markdown cell, hit Ctrl-Enter to \"run\" the cell and the text will be printed nicely.\n",
    "\n",
    "I'd recommend using Markdown cells like these to label your problems and to write your explanations of the answers.\n",
    "\n",
    "## Getting started\n",
    "\n",
    "To get started, click in the first input cell below and hit Ctrl-Enter. Please execute the cells one-by-one in the order they appear here."
   ]
  },
  {
   "cell_type": "code",
   "execution_count": null,
   "metadata": {},
   "outputs": [],
   "source": [
    "%run \"./pibsolver_oo_v1.py\" #Load the PIBSolver. Press Ctrl-Enter to execute the contents of this cell"
   ]
  },
  {
   "cell_type": "code",
   "execution_count": null,
   "metadata": {},
   "outputs": [],
   "source": [
    "pb = PIBSolver() #create a new PIBSolver object. This will output the current calculation parameters."
   ]
  },
  {
   "cell_type": "code",
   "execution_count": null,
   "metadata": {},
   "outputs": [],
   "source": [
    "pb.calc() #Perform a calculation with the current parameters."
   ]
  },
  {
   "cell_type": "markdown",
   "metadata": {},
   "source": [
    "# Changing the calculation settings\n",
    "\n",
    "All of the variables that are printed out in the table are able to be changed. In the problem set, you will vary many of these variables. Please do not modify the pibsolver_oo_v1.py script. You'll be able to do everything you need right here in the Jupyter notebook.\n",
    "\n",
    "## Changing the number of basis functions"
   ]
  },
  {
   "cell_type": "code",
   "execution_count": null,
   "metadata": {},
   "outputs": [],
   "source": [
    "pb.nbasis = 30"
   ]
  },
  {
   "cell_type": "code",
   "execution_count": null,
   "metadata": {},
   "outputs": [],
   "source": [
    "pb.print_vars() #print the current settings to verify"
   ]
  },
  {
   "cell_type": "code",
   "execution_count": null,
   "metadata": {},
   "outputs": [],
   "source": [
    "pb.calc() #perform the new calculation"
   ]
  },
  {
   "cell_type": "markdown",
   "metadata": {},
   "source": [
    "## Changing the potential function"
   ]
  },
  {
   "cell_type": "code",
   "execution_count": null,
   "metadata": {},
   "outputs": [],
   "source": [
    "pb.V = pb.doublewell"
   ]
  },
  {
   "cell_type": "code",
   "execution_count": null,
   "metadata": {},
   "outputs": [],
   "source": [
    "pb.calc()"
   ]
  },
  {
   "cell_type": "markdown",
   "metadata": {},
   "source": [
    "## Zooming in on the barrier in the double well potential"
   ]
  },
  {
   "cell_type": "code",
   "execution_count": null,
   "metadata": {},
   "outputs": [],
   "source": [
    "pb.plotxmin=-3 #You can change multiple things at the same time. Code is run line-by-line when\n",
    "pb.plotxmax=3 # you hit Ctrl-Enter in the cell.\n",
    "pb.plotymin=50\n",
    "pb.plotymax=120\n",
    "pb.calc()"
   ]
  },
  {
   "cell_type": "markdown",
   "metadata": {},
   "source": [
    "## Resetting back to starting conditions"
   ]
  },
  {
   "cell_type": "code",
   "execution_count": null,
   "metadata": {},
   "outputs": [],
   "source": [
    "pb = PIBSolver() #if you've changed a bunch of things and don't know where you're at, this restores defaults."
   ]
  },
  {
   "cell_type": "markdown",
   "metadata": {},
   "source": [
    "# Printing\n",
    "\n",
    "To print, just open File > Print Preview. You can then print the page (either to a PDF or to hard copy).\n",
    "\n",
    "Now you're good to go! Click File > New Notebook > Python 3 to create a new notebook, and use the commands shown above to run the pibsolver script, create a pibsolver object, and start working through the problem set."
   ]
  },
  {
   "cell_type": "code",
   "execution_count": null,
   "metadata": {},
   "outputs": [],
   "source": []
  }
 ],
 "metadata": {
  "kernelspec": {
   "display_name": "Python 3",
   "language": "python",
   "name": "python3"
  },
  "language_info": {
   "codemirror_mode": {
    "name": "ipython",
    "version": 3
   },
   "file_extension": ".py",
   "mimetype": "text/x-python",
   "name": "python",
   "nbconvert_exporter": "python",
   "pygments_lexer": "ipython3",
   "version": "3.6.5"
  }
 },
 "nbformat": 4,
 "nbformat_minor": 2
}
